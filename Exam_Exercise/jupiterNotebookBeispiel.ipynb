{
 "cells": [
  {
   "cell_type": "markdown",
   "id": "94fe5b96",
   "metadata": {
    "pycharm": {
     "name": "#%% md\n"
    }
   },
   "source": [
    "# Welcome to our practice tour\n",
    "- 1. Learning how to use Markdowns\n",
    "- 2. Learning to programm python in Jupyter\n",
    "- 3. How to edit Jupyter Notebook properly"
   ]
  },
  {
   "cell_type": "code",
   "execution_count": 8,
   "id": "4dd27a68",
   "metadata": {
    "pycharm": {
     "name": "#%%\n"
    }
   },
   "outputs": [
    {
     "ename": "SyntaxError",
     "evalue": "invalid syntax (<ipython-input-8-a9c29b0cf1aa>, line 11)",
     "output_type": "error",
     "traceback": [
      "\u001b[0;36m  File \u001b[0;32m\"<ipython-input-8-a9c29b0cf1aa>\"\u001b[0;36m, line \u001b[0;32m11\u001b[0m\n\u001b[0;31m    html = markdown(markdownVar, extensions=[\"tables\"])\u001b[0m\n\u001b[0m    ^\u001b[0m\n\u001b[0;31mSyntaxError\u001b[0m\u001b[0;31m:\u001b[0m invalid syntax\n"
     ]
    }
   ],
   "source": [
    "from time import sleep\n",
    "from markdown import Markdown as M\n",
    "\n",
    "\n",
    "print(\"Hello User,\")\n",
    "print(\"Welcome to Jupyter\")\n",
    "userName = input(\"Please Introduce yourself...?\")\n",
    "print(\"\\nWelcome: \"+userName+\" \\nIf this is your real Name.\\nWho knows :D\")\n",
    "hashTags = \"python\"\n",
    "markdownVar = \"\"\"Markdown Sample\"\"\".format(hashTags\n",
    "html = markdown(markdownVar, extensions=[\"tables\"])\n",
    "print(html))\n",
    "\n",
    "\n"
   ]
  },
  {
   "cell_type": "markdown",
   "id": "a1aa9af5",
   "metadata": {},
   "source": [
    "# How to use Markdowns\n",
    "- hashTags"
   ]
  },
  {
   "cell_type": "markdown",
   "id": "f10e5ea3",
   "metadata": {
    "pycharm": {
     "name": "#%% raw\n"
    }
   },
   "source": [
    "Einfach auf den Pfeil klicken :)"
   ]
  }
 ],
 "metadata": {
  "kernelspec": {
   "display_name": "Python 3.8.10 64-bit",
   "language": "python",
   "name": "python3"
  },
  "language_info": {
   "codemirror_mode": {
    "name": "ipython",
    "version": 3
   },
   "file_extension": ".py",
   "mimetype": "text/x-python",
   "name": "python",
   "nbconvert_exporter": "python",
   "pygments_lexer": "ipython3",
   "version": "3.8.10"
  },
  "vscode": {
   "interpreter": {
    "hash": "916dbcbb3f70747c44a77c7bcd40155683ae19c65e1c03b4aa3499c5328201f1"
   }
  }
 },
 "nbformat": 4,
 "nbformat_minor": 5
}
